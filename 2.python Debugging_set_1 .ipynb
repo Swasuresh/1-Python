{
 "cells": [
  {
   "cell_type": "code",
   "execution_count": 1,
   "id": "552735cd-4f00-4e2f-b123-1a05beeb02a5",
   "metadata": {},
   "outputs": [
    {
     "name": "stdout",
     "output_type": "stream",
     "text": [
      "0\n",
      "1\n",
      "2\n",
      "3\n",
      "4\n"
     ]
    }
   ],
   "source": [
    " for i in range(5):\n",
    "    print(i)"
   ]
  },
  {
   "cell_type": "code",
   "execution_count": 18,
   "id": "9314e222-1b80-4480-8531-723fd3df9af7",
   "metadata": {},
   "outputs": [
    {
     "name": "stdout",
     "output_type": "stream",
     "text": [
      "15\n"
     ]
    }
   ],
   "source": [
    "a = 10\n",
    "b = \"5\"\n",
    "print(a +int(b))"
   ]
  },
  {
   "cell_type": "code",
   "execution_count": 3,
   "id": "6a79d4b6-53f7-4337-a854-a672cabfbda2",
   "metadata": {},
   "outputs": [],
   "source": [
    "def add_numbers(a, b):\n",
    "    return a + b"
   ]
  },
  {
   "cell_type": "code",
   "execution_count": 4,
   "id": "63e1b7fb-495f-43f1-94e2-4d86bde07c35",
   "metadata": {},
   "outputs": [
    {
     "data": {
      "text/plain": [
       "15"
      ]
     },
     "execution_count": 4,
     "metadata": {},
     "output_type": "execute_result"
    }
   ],
   "source": [
    "add_numbers(a, b)"
   ]
  },
  {
   "cell_type": "code",
   "execution_count": 15,
   "id": "9fe674f8-79ec-40c2-9265-145d02ebfa7f",
   "metadata": {},
   "outputs": [
    {
     "name": "stdout",
     "output_type": "stream",
     "text": [
      "4\n"
     ]
    }
   ],
   "source": [
    "numbers = [1, 2, 3, 4]\n",
    "print(numbers[3]) "
   ]
  },
  {
   "cell_type": "code",
   "execution_count": 8,
   "id": "b14e90bb-3f97-488b-811f-6dd9539c7e22",
   "metadata": {},
   "outputs": [
    {
     "name": "stdout",
     "output_type": "stream",
     "text": [
      "Hello, World!\n"
     ]
    }
   ],
   "source": [
    "print(\"Hello, World!\")"
   ]
  },
  {
   "cell_type": "code",
   "execution_count": 10,
   "id": "9a5740db-7427-401e-bb6b-7379f9e9735f",
   "metadata": {},
   "outputs": [],
   "source": [
    "x = 5 / 1"
   ]
  },
  {
   "cell_type": "code",
   "execution_count": 9,
   "id": "1d129169-50bb-4baf-a1fd-641dbe0f629e",
   "metadata": {},
   "outputs": [
    {
     "name": "stdout",
     "output_type": "stream",
     "text": [
      "Name: Alice, Age: 25\n"
     ]
    }
   ],
   "source": [
    "name = \"Alice\"\n",
    "age = 25\n",
    "print(\"Name:\",name + \", Age:\",age)"
   ]
  },
  {
   "cell_type": "code",
   "execution_count": 7,
   "id": "f2de3677-af96-4be5-a872-a1f7664f89a6",
   "metadata": {},
   "outputs": [
    {
     "name": "stdout",
     "output_type": "stream",
     "text": [
      "10\n",
      "9\n",
      "8\n",
      "7\n",
      "6\n",
      "5\n",
      "4\n",
      "3\n",
      "2\n"
     ]
    }
   ],
   "source": [
    "for i in range(10, 1, -1):\n",
    "    print(i)"
   ]
  },
  {
   "cell_type": "code",
   "execution_count": 6,
   "id": "1228f047-452f-4f91-b8a1-cf219a71adf1",
   "metadata": {},
   "outputs": [],
   "source": [
    "x = 10\n",
    "if(x==5):\n",
    "    print(\"x is 5\")"
   ]
  },
  {
   "cell_type": "code",
   "execution_count": 4,
   "id": "4ecf8935-6915-4eb6-a9c8-2b7a98cbef36",
   "metadata": {},
   "outputs": [],
   "source": [
    "def greet(name):\n",
    "    print(\"Hello,\" +name)"
   ]
  },
  {
   "cell_type": "code",
   "execution_count": 5,
   "id": "979abcba-7aea-4a90-bab9-5d57aa8c01b2",
   "metadata": {},
   "outputs": [
    {
     "name": "stdout",
     "output_type": "stream",
     "text": [
      "Hello,Alice\n"
     ]
    }
   ],
   "source": [
    "greet(name)"
   ]
  },
  {
   "cell_type": "code",
   "execution_count": 7,
   "id": "a7b3ff39-41ab-4a62-af85-db5edb928e23",
   "metadata": {},
   "outputs": [
    {
     "name": "stdout",
     "output_type": "stream",
     "text": [
      "<class 'int'>\n"
     ]
    }
   ],
   "source": [
    " print(type(5)) "
   ]
  },
  {
   "cell_type": "code",
   "execution_count": null,
   "id": "ead9174f-1ea8-4aea-b622-5c41716885c9",
   "metadata": {},
   "outputs": [],
   "source": []
  }
 ],
 "metadata": {
  "kernelspec": {
   "display_name": "Python 3 (ipykernel)",
   "language": "python",
   "name": "python3"
  },
  "language_info": {
   "codemirror_mode": {
    "name": "ipython",
    "version": 3
   },
   "file_extension": ".py",
   "mimetype": "text/x-python",
   "name": "python",
   "nbconvert_exporter": "python",
   "pygments_lexer": "ipython3",
   "version": "3.12.7"
  }
 },
 "nbformat": 4,
 "nbformat_minor": 5
}
