{
 "cells": [
  {
   "cell_type": "code",
   "execution_count": 1,
   "id": "910a06e1-cfda-494d-abde-67efb1333e27",
   "metadata": {},
   "outputs": [
    {
     "name": "stdout",
     "output_type": "stream",
     "text": [
      "1\n",
      "2\n",
      "3\n",
      "4\n",
      "5\n"
     ]
    }
   ],
   "source": [
    "for i in range(1,6):\n",
    "    print(i)"
   ]
  },
  {
   "cell_type": "code",
   "execution_count": 3,
   "id": "663a5793-9410-469a-a9fa-bd9f19fdf667",
   "metadata": {},
   "outputs": [
    {
     "name": "stdout",
     "output_type": "stream",
     "text": [
      "2\n",
      "4\n",
      "6\n",
      "8\n",
      "10\n"
     ]
    }
   ],
   "source": [
    "for i in range(1,11):\n",
    "    if i%2==0:\n",
    "        print(i)"
   ]
  },
  {
   "cell_type": "code",
   "execution_count": 10,
   "id": "70cf89ce-cc1f-4fac-a5c2-755dc0dddef8",
   "metadata": {},
   "outputs": [
    {
     "name": "stdout",
     "output_type": "stream",
     "text": [
      "55\n"
     ]
    }
   ],
   "source": [
    "numbers=range(1, 11)\n",
    "sum_of_numbers=sum(numbers)\n",
    "print(sum_of_numbers)"
   ]
  },
  {
   "cell_type": "code",
   "execution_count": 23,
   "id": "cb87c68d-a294-4ae2-89fc-b1409deae0bb",
   "metadata": {},
   "outputs": [
    {
     "name": "stdin",
     "output_type": "stream",
     "text": [
      "Enter the factorial number: 5\n"
     ]
    },
    {
     "name": "stdout",
     "output_type": "stream",
     "text": [
      "120\n"
     ]
    }
   ],
   "source": [
    "num=int(input(\"Enter the factorial number:\"))\n",
    "fact=1\n",
    "\n",
    "for i in range(1,num+1):\n",
    "    fact=fact*i\n",
    "print(fact)"
   ]
  },
  {
   "cell_type": "code",
   "execution_count": 18,
   "id": "32ff2022-24a3-4579-9c4a-eb227b1df778",
   "metadata": {},
   "outputs": [
    {
     "name": "stdin",
     "output_type": "stream",
     "text": [
      "Enter the number 7\n"
     ]
    },
    {
     "name": "stdout",
     "output_type": "stream",
     "text": [
      "7 is a Prime Number\n"
     ]
    }
   ],
   "source": [
    "num=int(input(\"Enter the number\"))\n",
    "for i in range(2,num):\n",
    "    if(num%i==0):\n",
    "        print(num,\"is not a Prime Number \")\n",
    "else:\n",
    "    print(num,\"is a Prime Number\")"
   ]
  }
 ],
 "metadata": {
  "kernelspec": {
   "display_name": "Python 3 (ipykernel)",
   "language": "python",
   "name": "python3"
  },
  "language_info": {
   "codemirror_mode": {
    "name": "ipython",
    "version": 3
   },
   "file_extension": ".py",
   "mimetype": "text/x-python",
   "name": "python",
   "nbconvert_exporter": "python",
   "pygments_lexer": "ipython3",
   "version": "3.12.7"
  }
 },
 "nbformat": 4,
 "nbformat_minor": 5
}
