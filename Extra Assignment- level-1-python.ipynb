{
 "cells": [
  {
   "cell_type": "code",
   "execution_count": 1,
   "id": "fc4aa1d9-22e1-437f-8c2e-63e36e381ca6",
   "metadata": {},
   "outputs": [
    {
     "name": "stdout",
     "output_type": "stream",
     "text": [
      "HOPE AI\n"
     ]
    }
   ],
   "source": [
    "print(\"HOPE AI\")"
   ]
  },
  {
   "cell_type": "code",
   "execution_count": 2,
   "id": "1ed49c86-1b2f-4910-b55f-6407b515dbe5",
   "metadata": {},
   "outputs": [
    {
     "name": "stdin",
     "output_type": "stream",
     "text": [
      "Enter your institute name?: HOPE AI\n"
     ]
    }
   ],
   "source": [
    "inp=(input(\"Enter your institute name?:\"))"
   ]
  },
  {
   "cell_type": "code",
   "execution_count": 1,
   "id": "cd363429-1727-4bd6-91ad-1fe1a5bf42c3",
   "metadata": {},
   "outputs": [
    {
     "name": "stdin",
     "output_type": "stream",
     "text": [
      "Enter your name: Raj\n",
      "Enter your age: 15\n",
      "Enter your school name: Guru School\n",
      "Enter your degree: B.E CSE\n"
     ]
    }
   ],
   "source": [
    "inp1=(input(\"Enter your name:\"))\n",
    "inp2=(input(\"Enter your age:\"))\n",
    "inp3=(input(\"Enter your school name:\"))\n",
    "inp4=(input(\"Enter your degree:\"))"
   ]
  },
  {
   "cell_type": "code",
   "execution_count": 5,
   "id": "0dc2179a-1799-4c50-907d-0e825718feaf",
   "metadata": {},
   "outputs": [
    {
     "name": "stdout",
     "output_type": "stream",
     "text": [
      "a= 43\n",
      "b= 34\n",
      "add= 77\n"
     ]
    }
   ],
   "source": [
    "num1=43\n",
    "print(\"a=\",num1)\n",
    "num2=34\n",
    "print(\"b=\",num2)\n",
    "add=num1+num2\n",
    "print(\"add=\",add)"
   ]
  },
  {
   "cell_type": "code",
   "execution_count": 6,
   "id": "d655af17-85b6-474f-a6eb-59cd04485ce9",
   "metadata": {},
   "outputs": [
    {
     "name": "stdout",
     "output_type": "stream",
     "text": [
      "a= 43\n",
      "b= 34\n",
      "Sub= 9\n"
     ]
    }
   ],
   "source": [
    "num1=43\n",
    "print(\"a=\",num1)\n",
    "num2=34\n",
    "print(\"b=\",num2)\n",
    "sub=num1-num2\n",
    "print(\"Sub=\",sub)"
   ]
  },
  {
   "cell_type": "code",
   "execution_count": 7,
   "id": "396da234-0fbe-47fd-aca1-81d29ea6529a",
   "metadata": {},
   "outputs": [
    {
     "name": "stdout",
     "output_type": "stream",
     "text": [
      "a= 63\n",
      "b= 97\n",
      "Mul= 6111\n"
     ]
    }
   ],
   "source": [
    "num1=63\n",
    "print(\"a=\",num1)\n",
    "num2=97\n",
    "print(\"b=\",num2)\n",
    "mul=num1*num2\n",
    "print(\"Mul=\",mul)"
   ]
  },
  {
   "cell_type": "code",
   "execution_count": 9,
   "id": "5511bf7b-db80-4379-8c7d-8b54e49a2a3d",
   "metadata": {},
   "outputs": [
    {
     "name": "stdout",
     "output_type": "stream",
     "text": [
      "a= 76\n",
      "b= 31\n",
      "Float Div= 2.4516129032258065\n"
     ]
    }
   ],
   "source": [
    "num1=76\n",
    "print(\"a=\",num1)\n",
    "num2=31\n",
    "print(\"b=\",num2)\n",
    "div=num1/num2\n",
    "print(\"Float Div=\",div)"
   ]
  },
  {
   "cell_type": "code",
   "execution_count": 10,
   "id": "9657d4b6-f15c-4888-8b21-f08416e3d810",
   "metadata": {},
   "outputs": [
    {
     "name": "stdout",
     "output_type": "stream",
     "text": [
      "a= 76\n",
      "b= 31\n",
      "Floor Div= 2\n"
     ]
    }
   ],
   "source": [
    "num1=76\n",
    "print(\"a=\",num1)\n",
    "num2=31\n",
    "print(\"b=\",num2)\n",
    "div=num1//num2\n",
    "print(\"Floor Div=\",div)"
   ]
  },
  {
   "cell_type": "code",
   "execution_count": 11,
   "id": "d08cff47-a53b-4aee-9536-ed87b2c2229f",
   "metadata": {},
   "outputs": [
    {
     "name": "stdout",
     "output_type": "stream",
     "text": [
      "a= 76\n",
      "b= 31\n",
      "Modulo= 14\n"
     ]
    }
   ],
   "source": [
    "num1=76\n",
    "print(\"a=\",num1)\n",
    "num2=31\n",
    "print(\"b=\",num2)\n",
    "mod=num1%num2\n",
    "print(\"Modulo=\",mod)"
   ]
  },
  {
   "cell_type": "code",
   "execution_count": 12,
   "id": "d237522d-b007-4bd9-a43c-0b620d2989b3",
   "metadata": {},
   "outputs": [
    {
     "name": "stdout",
     "output_type": "stream",
     "text": [
      "a= 4\n",
      "b= 4\n",
      "Power= 256\n"
     ]
    }
   ],
   "source": [
    "num1=4\n",
    "print(\"a=\",num1)\n",
    "num2=4\n",
    "print(\"b=\",num2)\n",
    "pow=num1**num2\n",
    "print(\"Power=\",pow)"
   ]
  },
  {
   "cell_type": "code",
   "execution_count": null,
   "id": "8b9f2789-28b0-4d2a-a7d8-ac7ab776395d",
   "metadata": {},
   "outputs": [],
   "source": []
  }
 ],
 "metadata": {
  "kernelspec": {
   "display_name": "Python 3 (ipykernel)",
   "language": "python",
   "name": "python3"
  },
  "language_info": {
   "codemirror_mode": {
    "name": "ipython",
    "version": 3
   },
   "file_extension": ".py",
   "mimetype": "text/x-python",
   "name": "python",
   "nbconvert_exporter": "python",
   "pygments_lexer": "ipython3",
   "version": "3.12.7"
  }
 },
 "nbformat": 4,
 "nbformat_minor": 5
}
