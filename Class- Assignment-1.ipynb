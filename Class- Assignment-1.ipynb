{
 "cells": [
  {
   "cell_type": "code",
   "execution_count": 1,
   "id": "d481ad9a-32bd-4df5-9a7a-4cfd14d1e822",
   "metadata": {},
   "outputs": [],
   "source": [
    "def subfields():\n",
    "    print(\"Sub-fields in AI:\")\n",
    "    subfields=['Machine Learning','Neural Networks', 'Vision','Robotics','Speech Processing','Natural Language Processing']\n",
    "    for field in subfields:\n",
    "        print(field)"
   ]
  },
  {
   "cell_type": "code",
   "execution_count": 2,
   "id": "8a8e8553-c18c-4ec9-82aa-f0b8d0a8868a",
   "metadata": {},
   "outputs": [
    {
     "name": "stdout",
     "output_type": "stream",
     "text": [
      "Sub-fields in AI:\n",
      "Machine Learning\n",
      "Neural Networks\n",
      "Vision\n",
      "Robotics\n",
      "Speech Processing\n",
      "Natural Language Processing\n"
     ]
    }
   ],
   "source": [
    "subfields()"
   ]
  },
  {
   "cell_type": "code",
   "execution_count": 3,
   "id": "8891bea5-16fe-4b94-8bd2-275cdd74da44",
   "metadata": {},
   "outputs": [],
   "source": [
    "def OddEven():\n",
    "    num=int(input(\"Enter the number:\"))\n",
    "    if((num%2)==1):\n",
    "        print(num,\"is Odd number\")\n",
    "    else:\n",
    "        print(num,\"is Even number\")"
   ]
  },
  {
   "cell_type": "code",
   "execution_count": 4,
   "id": "79c93e8b-8984-4e7a-9763-f1d9bd9ecdc9",
   "metadata": {},
   "outputs": [
    {
     "name": "stdin",
     "output_type": "stream",
     "text": [
      "Enter the number: 52452\n"
     ]
    },
    {
     "name": "stdout",
     "output_type": "stream",
     "text": [
      "52452 is Even number\n"
     ]
    }
   ],
   "source": [
    "OddEven()"
   ]
  },
  {
   "cell_type": "code",
   "execution_count": 5,
   "id": "ba3db682-047a-44f9-b049-9e52436782a8",
   "metadata": {},
   "outputs": [],
   "source": [
    "def MarriageEligibility():\n",
    "    Gender=input(\"Your Gender:\")\n",
    "    Age=int(input(\"Your Age:\"))\n",
    "\n",
    "    if Gender==\"Male\":\n",
    "        if Age>=21:\n",
    "            print(\"ELIGIBLE\")\n",
    "        else:\n",
    "            print(\"NOT ELIGIBLE\")\n",
    "    else:\n",
    "        if Age>=18:\n",
    "            print(\"ELIGIBLE\")\n",
    "        else:\n",
    "            print(\"NOT ELIGIBLE\")   "
   ]
  },
  {
   "cell_type": "code",
   "execution_count": 6,
   "id": "eaafb456-63f8-4b71-a31e-1e0d2bd5a344",
   "metadata": {},
   "outputs": [
    {
     "name": "stdin",
     "output_type": "stream",
     "text": [
      "Your Gender: Male\n",
      "Your Age: 20\n"
     ]
    },
    {
     "name": "stdout",
     "output_type": "stream",
     "text": [
      "NOT ELIGIBLE\n"
     ]
    }
   ],
   "source": [
    "MarriageEligibility()"
   ]
  },
  {
   "cell_type": "code",
   "execution_count": 7,
   "id": "8d0f71b4-5ddd-4d0f-869e-c06209d24843",
   "metadata": {},
   "outputs": [],
   "source": [
    "def markpercentage():\n",
    "    num1=int(input(\"Subject1=\"))\n",
    "    num2=int(input(\"Subject2=\"))\n",
    "    num3=int(input(\"Subject3=\"))\n",
    "    num4=int(input(\"Subject4=\"))\n",
    "    num5=int(input(\"Subject5=\"))\n",
    "    \n",
    "    add=num1+num2+num3+num4+num5\n",
    "    percent=(add/500)*100\n",
    "    \n",
    "    print(\"Total:\",add)\n",
    "    print(\"Percentage:\",percent)"
   ]
  },
  {
   "cell_type": "code",
   "execution_count": 8,
   "id": "afdb6a75-19dd-49fc-a64f-7e72ab294229",
   "metadata": {},
   "outputs": [
    {
     "name": "stdin",
     "output_type": "stream",
     "text": [
      "Subject1= 98\n",
      "Subject2= 87\n",
      "Subject3= 95\n",
      "Subject4= 95\n",
      "Subject5= 93\n"
     ]
    },
    {
     "name": "stdout",
     "output_type": "stream",
     "text": [
      "Total: 468\n",
      "Percentage: 93.60000000000001\n"
     ]
    }
   ],
   "source": [
    "markpercentage()"
   ]
  },
  {
   "cell_type": "code",
   "execution_count": 1,
   "id": "9013b9c2-03a3-459c-ab8c-3743562c277c",
   "metadata": {},
   "outputs": [],
   "source": [
    "def triangle():\n",
    "    num1=int(input(\"Height:\"))\n",
    "    num2=int(input(\"Breadth:\"))\n",
    "    Area=(num1*num2)/2\n",
    "    print(\"Area of Triangle:(Height*Breadth)/2\")\n",
    "    print(\"Area of Triangle:\",Area)\n",
    "\n",
    "    num1=int(input(\"Height1:\"))\n",
    "    num2=int(input(\"Height2:\"))\n",
    "    num3=int(input(\"Breadth:\"))\n",
    "    Perimeter=num1+num2+num3\n",
    "    print(\"Perimeter formula:Height1+Height2+Breadth\")\n",
    "    print(\"Perimeter of Triangle:\",Perimeter)"
   ]
  },
  {
   "cell_type": "code",
   "execution_count": 2,
   "id": "1f15a3a5-7c54-4b46-8ec9-6c06e67e2171",
   "metadata": {},
   "outputs": [
    {
     "name": "stdin",
     "output_type": "stream",
     "text": [
      "Height: 32\n",
      "Breadth: 34\n"
     ]
    },
    {
     "name": "stdout",
     "output_type": "stream",
     "text": [
      "Area of Triangle:(Height*Breadth)/2\n",
      "Area of Triangle: 544.0\n"
     ]
    },
    {
     "name": "stdin",
     "output_type": "stream",
     "text": [
      "Height1: 2\n",
      "Height2: 4\n",
      "Breadth: 4\n"
     ]
    },
    {
     "name": "stdout",
     "output_type": "stream",
     "text": [
      "Perimeter formula:Height1+Height2+Breadth\n",
      "Perimeter of Triangle: 10\n"
     ]
    }
   ],
   "source": [
    "triangle()"
   ]
  },
  {
   "cell_type": "code",
   "execution_count": 3,
   "id": "87a64c83-8a5d-4be6-9954-7dd8a71dfadc",
   "metadata": {},
   "outputs": [],
   "source": [
    "class Multifunctions():\n",
    "    def subfields():\n",
    "        print(\"Sub-fields in AI:\")\n",
    "        subfields=['Machine Learning','Neural Networks', 'Vision','Robotics','Speech Processing','Natural Language Processing']\n",
    "        for field in subfields:\n",
    "            print(field)\n",
    "\n",
    "    def OddEven():\n",
    "        num=int(input(\"Enter the number:\"))\n",
    "        if((num%2)==1):\n",
    "            print(num,\"is Odd number\")\n",
    "        else:\n",
    "            print(num,\"is Even number\")\n",
    "\n",
    "    def MarriageEligibility():\n",
    "        Gender=input(\"Your Gender:\")\n",
    "        Age=int(input(\"Your Age:\"))\n",
    "    \n",
    "        if Gender==\"Male\":\n",
    "            if Age>=21:\n",
    "                print(\"ELIGIBLE\")\n",
    "            else:\n",
    "                print(\"NOT ELIGIBLE\")\n",
    "        else:\n",
    "            if Age>=18:\n",
    "                print(\"ELIGIBLE\")\n",
    "            else:\n",
    "                print(\"NOT ELIGIBLE\")   \n",
    "\n",
    "    def markpercentage():\n",
    "        num1=int(input(\"Subject1=\"))\n",
    "        num2=int(input(\"Subject2=\"))\n",
    "        num3=int(input(\"Subject3=\"))\n",
    "        num4=int(input(\"Subject4=\"))\n",
    "        num5=int(input(\"Subject5=\"))\n",
    "        \n",
    "        add=num1+num2+num3+num4+num5\n",
    "        percent=(add/500)*100\n",
    "        \n",
    "        print(\"Total:\",add)\n",
    "        print(\"Percentage:\",percent)\n",
    "\n",
    "    def triangle():\n",
    "        num1=int(input(\"Height:\"))\n",
    "        num2=int(input(\"Breadth:\"))\n",
    "        Area=(num1*num2)/2\n",
    "        print(\"Area of Triangle:(Height*Breadth)/2\")\n",
    "        print(\"Area of Triangle:\",Area)\n",
    "    \n",
    "        num1=int(input(\"Height1:\"))\n",
    "        num2=int(input(\"Height2:\"))\n",
    "        num3=int(input(\"Breadth:\"))\n",
    "        Perimeter=num1+num2+num3\n",
    "        print(\"Perimeter formula:Height1+Height2+Breadth\")\n",
    "        print(\"Perimeter of Triangle:\",Perimeter)"
   ]
  },
  {
   "cell_type": "code",
   "execution_count": 4,
   "id": "a63c5a6d-5ca5-47c9-8713-34ae1effe138",
   "metadata": {},
   "outputs": [
    {
     "name": "stdout",
     "output_type": "stream",
     "text": [
      "Sub-fields in AI:\n",
      "Machine Learning\n",
      "Neural Networks\n",
      "Vision\n",
      "Robotics\n",
      "Speech Processing\n",
      "Natural Language Processing\n"
     ]
    }
   ],
   "source": [
    "Multifunctions.subfields()"
   ]
  },
  {
   "cell_type": "code",
   "execution_count": 5,
   "id": "331a8829-b994-4fdf-823a-0a182d1d8e35",
   "metadata": {},
   "outputs": [
    {
     "name": "stdin",
     "output_type": "stream",
     "text": [
      "Enter the number: 52452\n"
     ]
    },
    {
     "name": "stdout",
     "output_type": "stream",
     "text": [
      "52452 is Even number\n"
     ]
    }
   ],
   "source": [
    "Multifunctions.OddEven()"
   ]
  },
  {
   "cell_type": "code",
   "execution_count": 6,
   "id": "bd6963ed-36c6-45cf-9e01-06c317f7ce4f",
   "metadata": {},
   "outputs": [
    {
     "name": "stdin",
     "output_type": "stream",
     "text": [
      "Your Gender: Male\n",
      "Your Age: 20\n"
     ]
    },
    {
     "name": "stdout",
     "output_type": "stream",
     "text": [
      "NOT ELIGIBLE\n"
     ]
    }
   ],
   "source": [
    "Multifunctions.MarriageEligibility()"
   ]
  },
  {
   "cell_type": "code",
   "execution_count": 8,
   "id": "936e0fb2-af11-48f1-b6bc-9c532f1f10bf",
   "metadata": {},
   "outputs": [
    {
     "name": "stdin",
     "output_type": "stream",
     "text": [
      "Subject1= 98\n",
      "Subject2= 87\n",
      "Subject3= 95\n",
      "Subject4= 95\n",
      "Subject5= 93\n"
     ]
    },
    {
     "name": "stdout",
     "output_type": "stream",
     "text": [
      "Total: 468\n",
      "Percentage: 93.60000000000001\n"
     ]
    }
   ],
   "source": [
    "Multifunctions.markpercentage()"
   ]
  },
  {
   "cell_type": "code",
   "execution_count": 10,
   "id": "314fa844-a01c-4483-a276-638b48b4d43d",
   "metadata": {},
   "outputs": [
    {
     "name": "stdin",
     "output_type": "stream",
     "text": [
      "Height: 32\n",
      "Breadth: 34\n"
     ]
    },
    {
     "name": "stdout",
     "output_type": "stream",
     "text": [
      "Area of Triangle:(Height*Breadth)/2\n",
      "Area of Triangle: 544.0\n"
     ]
    },
    {
     "name": "stdin",
     "output_type": "stream",
     "text": [
      "Height1: 2\n",
      "Height2: 4\n",
      "Breadth: 4\n"
     ]
    },
    {
     "name": "stdout",
     "output_type": "stream",
     "text": [
      "Perimeter formula:Height1+Height2+Breadth\n",
      "Perimeter of Triangle: 10\n"
     ]
    }
   ],
   "source": [
    "Multifunctions.triangle()"
   ]
  },
  {
   "cell_type": "code",
   "execution_count": null,
   "id": "68e2a514-3443-476d-aa83-3e632401e56a",
   "metadata": {},
   "outputs": [],
   "source": []
  }
 ],
 "metadata": {
  "kernelspec": {
   "display_name": "Python 3 (ipykernel)",
   "language": "python",
   "name": "python3"
  },
  "language_info": {
   "codemirror_mode": {
    "name": "ipython",
    "version": 3
   },
   "file_extension": ".py",
   "mimetype": "text/x-python",
   "name": "python",
   "nbconvert_exporter": "python",
   "pygments_lexer": "ipython3",
   "version": "3.12.7"
  }
 },
 "nbformat": 4,
 "nbformat_minor": 5
}
