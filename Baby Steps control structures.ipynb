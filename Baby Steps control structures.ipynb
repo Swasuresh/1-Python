{
 "cells": [
  {
   "cell_type": "code",
   "execution_count": 1,
   "id": "8049825c-a596-4e31-b3c0-2960a8497a0f",
   "metadata": {},
   "outputs": [
    {
     "name": "stdout",
     "output_type": "stream",
     "text": [
      "Welcome to Assignment-1\n"
     ]
    }
   ],
   "source": [
    "print(\"Welcome to Assignment-1\")"
   ]
  },
  {
   "cell_type": "code",
   "execution_count": 1,
   "id": "d10c12f3-0156-4ed2-8d16-bf85cd401602",
   "metadata": {},
   "outputs": [
    {
     "name": "stdout",
     "output_type": "stream",
     "text": [
      "Num1= 10\n",
      "Num2= 20\n",
      "Add= 30\n"
     ]
    }
   ],
   "source": [
    "Number1=10\n",
    "print(\"Num1=\",Number1)\n",
    "Number2=20\n",
    "print(\"Num2=\",Number2)\n",
    "add=Number1+Number2\n",
    "print(\"Add=\",add)"
   ]
  },
  {
   "cell_type": "code",
   "execution_count": 8,
   "id": "fb5a651f-9247-4a0e-a979-790118beb27b",
   "metadata": {},
   "outputs": [],
   "source": [
    "#Body Mass Index"
   ]
  },
  {
   "cell_type": "code",
   "execution_count": 10,
   "id": "78a460b5-b791-494e-916a-3d5c21ccc78f",
   "metadata": {},
   "outputs": [
    {
     "name": "stdin",
     "output_type": "stream",
     "text": [
      "Enter the BMI Index: 34\n"
     ]
    },
    {
     "name": "stdout",
     "output_type": "stream",
     "text": [
      "Very Overweight\n"
     ]
    }
   ],
   "source": [
    "BMI=int(input(\"Enter the BMI Index:\"))\n",
    "#if-elif\n",
    "if(BMI<18.5):\n",
    "    print(\"Underweight\")\n",
    "elif(BMI<22.9):\n",
    "    print(\"Normal\")\n",
    "elif(BMI<29.9):\n",
    "    print(\"Overweight\")\n",
    "elif(BMI<34.9):\n",
    "    print(\"Very Overweight\")\n",
    "else:\n",
    "    print(\"Obese\")"
   ]
  },
  {
   "cell_type": "code",
   "execution_count": null,
   "id": "005c9e72-410f-41cf-aa15-a745539c2053",
   "metadata": {},
   "outputs": [],
   "source": []
  }
 ],
 "metadata": {
  "kernelspec": {
   "display_name": "Python 3 (ipykernel)",
   "language": "python",
   "name": "python3"
  },
  "language_info": {
   "codemirror_mode": {
    "name": "ipython",
    "version": 3
   },
   "file_extension": ".py",
   "mimetype": "text/x-python",
   "name": "python",
   "nbconvert_exporter": "python",
   "pygments_lexer": "ipython3",
   "version": "3.12.7"
  }
 },
 "nbformat": 4,
 "nbformat_minor": 5
}
