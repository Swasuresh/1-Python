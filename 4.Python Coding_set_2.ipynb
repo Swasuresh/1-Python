{
 "cells": [
  {
   "cell_type": "code",
   "execution_count": 1,
   "id": "7a3f63ab-091f-4805-afe7-bd7b52a73eb6",
   "metadata": {},
   "outputs": [
    {
     "name": "stdout",
     "output_type": "stream",
     "text": [
      "olleh\n"
     ]
    }
   ],
   "source": [
    "org_string=\"hello\"\n",
    "rev_string=org_string[::-1]\n",
    "print(rev_string)"
   ]
  },
  {
   "cell_type": "code",
   "execution_count": 2,
   "id": "493bbc30-1e9d-41b1-b913-7ce54215139c",
   "metadata": {},
   "outputs": [
    {
     "name": "stdin",
     "output_type": "stream",
     "text": [
      "Enter the number of terms:  10\n"
     ]
    },
    {
     "name": "stdout",
     "output_type": "stream",
     "text": [
      "0 1 1 2 3 5 8 13 21 34 "
     ]
    }
   ],
   "source": [
    "n = int(input(\"Enter the number of terms: \"))\n",
    "def fibonacci(n):\n",
    "    a=0\n",
    "    b =1\n",
    "    for i in range(n):\n",
    "        print(a, end=\" \")\n",
    "        a, b=b, a + b\n",
    "\n",
    "fibonacci(n)"
   ]
  },
  {
   "cell_type": "code",
   "execution_count": 3,
   "id": "1c7980a1-54ea-4c4f-9622-afeb5759f995",
   "metadata": {},
   "outputs": [
    {
     "name": "stdin",
     "output_type": "stream",
     "text": [
      "Enter the string: madam\n"
     ]
    },
    {
     "name": "stdout",
     "output_type": "stream",
     "text": [
      "madam is a palindrome\n"
     ]
    }
   ],
   "source": [
    "s=input(\"Enter the string:\")\n",
    "reverse=s[::-1]\n",
    "\n",
    "if(s==reverse):\n",
    "    print(s, \"is a palindrome\")\n",
    "else:\n",
    "    print(s, \"is not a palindrome\")\n",
    "    "
   ]
  },
  {
   "cell_type": "code",
   "execution_count": 4,
   "id": "c7c4cd9e-4f49-41f1-a395-04e5a6a4896e",
   "metadata": {},
   "outputs": [
    {
     "name": "stdin",
     "output_type": "stream",
     "text": [
      "Enter the Text: education\n"
     ]
    },
    {
     "name": "stdout",
     "output_type": "stream",
     "text": [
      "Number of vowels: 5\n"
     ]
    }
   ],
   "source": [
    "text=input(\"Enter the Text:\")\n",
    "count=0\n",
    "for character in text:\n",
    "    if (character in \"aAeEiIoOuU\"):\n",
    "        count+=1\n",
    "print(\"Number of vowels:\" ,count)"
   ]
  },
  {
   "cell_type": "code",
   "execution_count": 6,
   "id": "cc60e8d4-c9e8-45d5-8f5a-eb0cde10b63c",
   "metadata": {},
   "outputs": [
    {
     "name": "stdout",
     "output_type": "stream",
     "text": [
      "[1, 2, 3, 4, 5]\n"
     ]
    }
   ],
   "source": [
    "duplist=[1, 2, 2, 3, 4, 4, 5]\n",
    "no_duplist=[]\n",
    "for i in duplist:\n",
    "    if i not in no_duplist:\n",
    "        no_duplist.append(i)\n",
    "\n",
    "print(no_duplist) "
   ]
  },
  {
   "cell_type": "code",
   "execution_count": null,
   "id": "da97b1d5-c1a9-44c8-884d-6ce5027ca7bc",
   "metadata": {},
   "outputs": [],
   "source": []
  }
 ],
 "metadata": {
  "kernelspec": {
   "display_name": "Python 3 (ipykernel)",
   "language": "python",
   "name": "python3"
  },
  "language_info": {
   "codemirror_mode": {
    "name": "ipython",
    "version": 3
   },
   "file_extension": ".py",
   "mimetype": "text/x-python",
   "name": "python",
   "nbconvert_exporter": "python",
   "pygments_lexer": "ipython3",
   "version": "3.12.7"
  }
 },
 "nbformat": 4,
 "nbformat_minor": 5
}
