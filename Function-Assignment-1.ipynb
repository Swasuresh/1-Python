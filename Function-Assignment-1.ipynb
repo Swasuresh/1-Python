{
 "cells": [
  {
   "cell_type": "code",
   "execution_count": 1,
   "id": "66d0d403-bbd4-4b0d-8eda-343acee5e922",
   "metadata": {},
   "outputs": [],
   "source": [
    "def subfields():\n",
    "    print(\"Sub-fields in AI:\")\n",
    "    subfields=['Machine Learning','Neural Networks', 'Vision','Robotics','Speech Processing','Natural Language Processing']\n",
    "    for field in subfields:\n",
    "        print(field)"
   ]
  },
  {
   "cell_type": "code",
   "execution_count": 2,
   "id": "56153b9f-6b27-40d7-a258-71fc007db751",
   "metadata": {},
   "outputs": [
    {
     "name": "stdout",
     "output_type": "stream",
     "text": [
      "Sub-fields in AI:\n",
      "Machine Learning\n",
      "Neural Networks\n",
      "Vision\n",
      "Robotics\n",
      "Speech Processing\n",
      "Natural Language Processing\n"
     ]
    }
   ],
   "source": [
    "subfields()"
   ]
  },
  {
   "cell_type": "code",
   "execution_count": 3,
   "id": "68679622-f4ba-49eb-8eed-8075b845c1e1",
   "metadata": {},
   "outputs": [],
   "source": [
    "def OddEven():\n",
    "    num=int(input(\"Enter the number:\"))\n",
    "    if((num%2)==1):\n",
    "        print(num,\"is Odd number\")\n",
    "    else:\n",
    "        print(num,\"is Even number\")"
   ]
  },
  {
   "cell_type": "code",
   "execution_count": 4,
   "id": "0b602feb-8615-4c0a-a7d3-b53569a3295a",
   "metadata": {},
   "outputs": [
    {
     "name": "stdin",
     "output_type": "stream",
     "text": [
      "Enter the number: 52452\n"
     ]
    },
    {
     "name": "stdout",
     "output_type": "stream",
     "text": [
      "52452 is Even number\n"
     ]
    }
   ],
   "source": [
    "OddEven()"
   ]
  },
  {
   "cell_type": "code",
   "execution_count": 5,
   "id": "ef9a1ebc-4cff-4d26-b5d8-3de4ce6b3603",
   "metadata": {},
   "outputs": [],
   "source": [
    "def MarriageEligibility():\n",
    "    Gender=input(\"Your Gender:\")\n",
    "    Age=int(input(\"Your Age:\"))\n",
    "\n",
    "    if Gender==\"Male\":\n",
    "        if Age>=21:\n",
    "            print(\"ELIGIBLE\")\n",
    "        else:\n",
    "            print(\"NOT ELIGIBLE\")\n",
    "    else:\n",
    "        if Age>=18:\n",
    "            print(\"ELIGIBLE\")\n",
    "        else:\n",
    "            print(\"NOT ELIGIBLE\")   "
   ]
  },
  {
   "cell_type": "code",
   "execution_count": 6,
   "id": "5bb281a0-96c7-4712-a3ff-56f51c88bec3",
   "metadata": {},
   "outputs": [
    {
     "name": "stdin",
     "output_type": "stream",
     "text": [
      "Your Gender: Male\n",
      "Your Age: 20\n"
     ]
    },
    {
     "name": "stdout",
     "output_type": "stream",
     "text": [
      "NOT ELIGIBLE\n"
     ]
    }
   ],
   "source": [
    "MarriageEligibility()"
   ]
  },
  {
   "cell_type": "code",
   "execution_count": 14,
   "id": "cf2e6ed5-05aa-4c05-9424-13532e766682",
   "metadata": {},
   "outputs": [],
   "source": [
    "def markpercentage():\n",
    "    num1=int(input(\"Subject1=\"))\n",
    "    num2=int(input(\"Subject2=\"))\n",
    "    num3=int(input(\"Subject3=\"))\n",
    "    num4=int(input(\"Subject4=\"))\n",
    "    num5=int(input(\"Subject5=\"))\n",
    "    \n",
    "    add=num1+num2+num3+num4+num5\n",
    "    percent=(add/500)*100\n",
    "    \n",
    "    print(\"Total:\",add)\n",
    "    print(\"Percentage:\",percent)"
   ]
  },
  {
   "cell_type": "code",
   "execution_count": 15,
   "id": "4331a1b8-52e3-4d18-8b59-c6f9da22d5bc",
   "metadata": {},
   "outputs": [
    {
     "name": "stdin",
     "output_type": "stream",
     "text": [
      "Subject1= 98\n",
      "Subject2= 87\n",
      "Subject3= 95\n",
      "Subject4= 95\n",
      "Subject5= 93\n"
     ]
    },
    {
     "name": "stdout",
     "output_type": "stream",
     "text": [
      "Total: 468\n",
      "Percentage: 93.60000000000001\n"
     ]
    }
   ],
   "source": [
    "95\n"
   ]
  },
  {
   "cell_type": "code",
   "execution_count": 1,
   "id": "c5f5b720-9deb-4f1a-a311-f575d81d22d2",
   "metadata": {},
   "outputs": [],
   "source": [
    "def triangle():\n",
    "    num1=int(input(\"Height:\"))\n",
    "    num2=int(input(\"Breadth:\"))\n",
    "    Area=(num1*num2)/2\n",
    "    print(\"Area of Triangle:(Height*Breadth)/2\")\n",
    "    print(\"Area of Triangle:\",Area)\n",
    "\n",
    "    num1=int(input(\"Height1:\"))\n",
    "    num2=int(input(\"Height2:\"))\n",
    "    num3=int(input(\"Breadth:\"))\n",
    "    Perimeter=num1+num2+num3\n",
    "    print(\"Perimeter formula:Height1+Height2+Breadth\")\n",
    "    print(\"Perimeter of Triangle:\",Perimeter)"
   ]
  },
  {
   "cell_type": "code",
   "execution_count": 2,
   "id": "8bc2e935-dbb9-4d3f-aa32-5f916474835c",
   "metadata": {},
   "outputs": [
    {
     "name": "stdin",
     "output_type": "stream",
     "text": [
      "Height: 32\n",
      "Breadth: 34\n"
     ]
    },
    {
     "name": "stdout",
     "output_type": "stream",
     "text": [
      "Area of Triangle:(Height*Breadth)/2\n",
      "Area of Triangle: 544.0\n"
     ]
    },
    {
     "name": "stdin",
     "output_type": "stream",
     "text": [
      "Height1: 2\n",
      "Height2: 4\n",
      "Breadth: 4\n"
     ]
    },
    {
     "name": "stdout",
     "output_type": "stream",
     "text": [
      "Perimeter formula:Height1+Height2+Breadth\n",
      "Perimeter of Triangle: 10\n"
     ]
    }
   ],
   "source": [
    "triangle()"
   ]
  },
  {
   "cell_type": "code",
   "execution_count": null,
   "id": "d5e63eb5-f1fc-4784-a3a8-f6c93e668c1f",
   "metadata": {},
   "outputs": [],
   "source": []
  }
 ],
 "metadata": {
  "kernelspec": {
   "display_name": "Python 3 (ipykernel)",
   "language": "python",
   "name": "python3"
  },
  "language_info": {
   "codemirror_mode": {
    "name": "ipython",
    "version": 3
   },
   "file_extension": ".py",
   "mimetype": "text/x-python",
   "name": "python",
   "nbconvert_exporter": "python",
   "pygments_lexer": "ipython3",
   "version": "3.12.7"
  }
 },
 "nbformat": 4,
 "nbformat_minor": 5
}
